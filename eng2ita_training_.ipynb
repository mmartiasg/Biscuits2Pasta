from Transformers.ModelBuilder import TransformerTranslator

TransformerTranslator(path="eng-ita/eng-ita.txt", num_heads=3, dim_dense=1024, dim_embeddings=256, source_max_tokens=15000, target_max_tokens=30000, source_seq_length=20, target_seq_length=20, dropout_rate=0.4).fit(epochs=5, batch_size=512, output_model_path="test_model")

